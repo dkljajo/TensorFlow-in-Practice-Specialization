{
  "nbformat": 4,
  "nbformat_minor": 0,
  "metadata": {
    "colab": {
      "name": "NLP-Week4-Exercise-Shakespeare-Question.ipynb",
      "provenance": []
    },
    "kernelspec": {
      "name": "python2",
      "display_name": "Python 2"
    },
    "accelerator": "GPU"
  },
  "cells": [
    {
      "cell_type": "code",
      "metadata": {
        "id": "BOwsuGQQY9OL",
        "colab_type": "code",
        "colab": {}
      },
      "source": [
        "from tensorflow.keras.preprocessing.sequence import pad_sequences\n",
        "from tensorflow.keras.layers import Embedding, LSTM, Dense, Dropout, Bidirectional\n",
        "from tensorflow.keras.preprocessing.text import Tokenizer\n",
        "from tensorflow.keras.models import Sequential\n",
        "from tensorflow.keras.optimizers import Adam\n",
        "### YOUR CODE HERE\n",
        "from tensorflow.keras import regularizers\n",
        "###\n",
        "import tensorflow.keras.utils as ku \n",
        "import numpy as np "
      ],
      "execution_count": 0,
      "outputs": []
    },
    {
      "cell_type": "code",
      "metadata": {
        "colab_type": "code",
        "id": "PRnDnCW-Z7qv",
        "colab": {
          "base_uri": "https://localhost:8080/",
          "height": 204
        },
        "outputId": "5fb70844-4e8b-446d-880a-94bfb866845e"
      },
      "source": [
        "tokenizer = Tokenizer()\n",
        "!wget --no-check-certificate \\\n",
        "    https://storage.googleapis.com/laurencemoroney-blog.appspot.com/sonnets.txt \\\n",
        "    -O /tmp/sonnets.txt\n",
        "data = open('/tmp/sonnets.txt').read()\n",
        "\n",
        "corpus = data.lower().split(\"\\n\")\n",
        "\n",
        "\n",
        "tokenizer.fit_on_texts(corpus)\n",
        "total_words = len(tokenizer.word_index) + 1\n",
        "\n",
        "# create input sequences using list of tokens\n",
        "input_sequences = []\n",
        "for line in corpus:\n",
        "\ttoken_list = tokenizer.texts_to_sequences([line])[0]\n",
        "\tfor i in range(1, len(token_list)):\n",
        "\t\tn_gram_sequence = token_list[:i+1]\n",
        "\t\tinput_sequences.append(n_gram_sequence)\n",
        "\n",
        "\n",
        "# pad sequences \n",
        "max_sequence_len = max([len(x) for x in input_sequences])\n",
        "input_sequences = np.array(pad_sequences(input_sequences, maxlen=max_sequence_len, padding='pre'))\n",
        "\n",
        "# create predictors and label\n",
        "predictors, label = input_sequences[:,:-1],input_sequences[:,-1]\n",
        "\n",
        "label = ku.to_categorical(label, num_classes=total_words)"
      ],
      "execution_count": 2,
      "outputs": [
        {
          "output_type": "stream",
          "text": [
            "--2019-09-23 13:47:57--  https://storage.googleapis.com/laurencemoroney-blog.appspot.com/sonnets.txt\n",
            "Resolving storage.googleapis.com (storage.googleapis.com)... 64.233.166.128, 2a00:1450:400c:c06::80\n",
            "Connecting to storage.googleapis.com (storage.googleapis.com)|64.233.166.128|:443... connected.\n",
            "HTTP request sent, awaiting response... 200 OK\n",
            "Length: 93578 (91K) [text/plain]\n",
            "Saving to: ‘/tmp/sonnets.txt’\n",
            "\n",
            "\r/tmp/sonnets.txt      0%[                    ]       0  --.-KB/s               \r/tmp/sonnets.txt    100%[===================>]  91.38K  --.-KB/s    in 0.001s  \n",
            "\n",
            "2019-09-23 13:47:57 (133 MB/s) - ‘/tmp/sonnets.txt’ saved [93578/93578]\n",
            "\n"
          ],
          "name": "stdout"
        }
      ]
    },
    {
      "cell_type": "code",
      "metadata": {
        "id": "w9vH8Y59ajYL",
        "colab_type": "code",
        "colab": {
          "base_uri": "https://localhost:8080/",
          "height": 666
        },
        "outputId": "a5eef55b-bb74-4825-8025-ccee0d46a2b2"
      },
      "source": [
        "model = Sequential()\n",
        "model.add(Embedding(total_words, 100, input_length=max_sequence_len-1))\n",
        "model.add(Bidirectional(LSTM(150, return_sequences = True)))\n",
        "model.add(Dropout(0.2))\n",
        "model.add(LSTM(100))\n",
        "model.add(Dense(total_words/2, activation='relu', kernel_regularizer=regularizers.l2(0.01)))\n",
        "model.add(Dense(total_words, activation='softmax'))\n",
        "# Pick an optimizer\n",
        "model.compile(loss='categorical_crossentropy', optimizer='adam', metrics=['accuracy'])\n",
        "print(model.summary())\n"
      ],
      "execution_count": 3,
      "outputs": [
        {
          "output_type": "stream",
          "text": [
            "WARNING: Logging before flag parsing goes to stderr.\n",
            "W0923 13:48:20.748799 140545364211584 deprecation.py:506] From /usr/local/lib/python2.7/dist-packages/tensorflow/python/keras/initializers.py:119: calling __init__ (from tensorflow.python.ops.init_ops) with dtype is deprecated and will be removed in a future version.\n",
            "Instructions for updating:\n",
            "Call initializer instance with the dtype argument instead of passing it to the constructor\n",
            "W0923 13:48:20.781959 140545364211584 deprecation.py:506] From /usr/local/lib/python2.7/dist-packages/tensorflow/python/ops/init_ops.py:1251: calling __init__ (from tensorflow.python.ops.init_ops) with dtype is deprecated and will be removed in a future version.\n",
            "Instructions for updating:\n",
            "Call initializer instance with the dtype argument instead of passing it to the constructor\n",
            "W0923 13:48:20.793154 140545364211584 deprecation.py:506] From /usr/local/lib/python2.7/dist-packages/tensorflow/python/ops/init_ops.py:97: calling __init__ (from tensorflow.python.ops.init_ops) with dtype is deprecated and will be removed in a future version.\n",
            "Instructions for updating:\n",
            "Call initializer instance with the dtype argument instead of passing it to the constructor\n",
            "W0923 13:48:20.794871 140545364211584 deprecation.py:506] From /usr/local/lib/python2.7/dist-packages/tensorflow/python/ops/init_ops.py:97: calling __init__ (from tensorflow.python.ops.init_ops) with dtype is deprecated and will be removed in a future version.\n",
            "Instructions for updating:\n",
            "Call initializer instance with the dtype argument instead of passing it to the constructor\n",
            "W0923 13:48:20.799280 140545364211584 deprecation.py:506] From /usr/local/lib/python2.7/dist-packages/tensorflow/python/ops/init_ops.py:97: calling __init__ (from tensorflow.python.ops.init_ops) with dtype is deprecated and will be removed in a future version.\n",
            "Instructions for updating:\n",
            "Call initializer instance with the dtype argument instead of passing it to the constructor\n"
          ],
          "name": "stderr"
        },
        {
          "output_type": "stream",
          "text": [
            "Model: \"sequential\"\n",
            "_________________________________________________________________\n",
            "Layer (type)                 Output Shape              Param #   \n",
            "=================================================================\n",
            "embedding (Embedding)        (None, 10, 100)           321100    \n",
            "_________________________________________________________________\n",
            "bidirectional (Bidirectional (None, 10, 300)           301200    \n",
            "_________________________________________________________________\n",
            "dropout (Dropout)            (None, 10, 300)           0         \n",
            "_________________________________________________________________\n",
            "lstm_1 (LSTM)                (None, 100)               160400    \n",
            "_________________________________________________________________\n",
            "dense (Dense)                (None, 1605)              162105    \n",
            "_________________________________________________________________\n",
            "dense_1 (Dense)              (None, 3211)              5156866   \n",
            "=================================================================\n",
            "Total params: 6,101,671\n",
            "Trainable params: 6,101,671\n",
            "Non-trainable params: 0\n",
            "_________________________________________________________________\n",
            "None\n"
          ],
          "name": "stdout"
        }
      ]
    },
    {
      "cell_type": "code",
      "metadata": {
        "id": "AIg2f1HBxqof",
        "colab_type": "code",
        "colab": {
          "base_uri": "https://localhost:8080/",
          "height": 1000
        },
        "outputId": "f47f32f3-0c54-4bdd-c62c-e3be944b5671"
      },
      "source": [
        " history = model.fit(predictors, label, epochs=100, verbose=1)"
      ],
      "execution_count": 4,
      "outputs": [
        {
          "output_type": "stream",
          "text": [
            "W0923 13:48:37.022141 140545364211584 deprecation.py:323] From /usr/local/lib/python2.7/dist-packages/tensorflow/python/ops/math_grad.py:1250: where (from tensorflow.python.ops.array_ops) is deprecated and will be removed in a future version.\n",
            "Instructions for updating:\n",
            "Use tf.where in 2.0, which has the same broadcast rule as np.where\n"
          ],
          "name": "stderr"
        },
        {
          "output_type": "stream",
          "text": [
            "Epoch 1/100\n",
            "15462/15462 [==============================] - 41s 3ms/sample - loss: 6.9038 - acc: 0.0205\n",
            "Epoch 2/100\n",
            "15462/15462 [==============================] - 40s 3ms/sample - loss: 6.5005 - acc: 0.0202\n",
            "Epoch 3/100\n",
            "15462/15462 [==============================] - 40s 3ms/sample - loss: 6.3887 - acc: 0.0263\n",
            "Epoch 4/100\n",
            "15462/15462 [==============================] - 40s 3ms/sample - loss: 6.2716 - acc: 0.0299\n",
            "Epoch 5/100\n",
            "15462/15462 [==============================] - 39s 3ms/sample - loss: 6.1916 - acc: 0.0363\n",
            "Epoch 6/100\n",
            "15462/15462 [==============================] - 40s 3ms/sample - loss: 6.1159 - acc: 0.0376\n",
            "Epoch 7/100\n",
            "15462/15462 [==============================] - 40s 3ms/sample - loss: 6.0418 - acc: 0.0417\n",
            "Epoch 8/100\n",
            "15462/15462 [==============================] - 40s 3ms/sample - loss: 5.9596 - acc: 0.0447\n",
            "Epoch 9/100\n",
            "15462/15462 [==============================] - 40s 3ms/sample - loss: 5.8562 - acc: 0.0485\n",
            "Epoch 10/100\n",
            "15462/15462 [==============================] - 40s 3ms/sample - loss: 5.7550 - acc: 0.0555\n",
            "Epoch 11/100\n",
            "15462/15462 [==============================] - 40s 3ms/sample - loss: 5.6526 - acc: 0.0603\n",
            "Epoch 12/100\n",
            "15462/15462 [==============================] - 40s 3ms/sample - loss: 5.5543 - acc: 0.0640\n",
            "Epoch 13/100\n",
            "15462/15462 [==============================] - 39s 3ms/sample - loss: 5.4547 - acc: 0.0716\n",
            "Epoch 14/100\n",
            "15462/15462 [==============================] - 40s 3ms/sample - loss: 5.3544 - acc: 0.0749\n",
            "Epoch 15/100\n",
            "15462/15462 [==============================] - 39s 3ms/sample - loss: 5.2543 - acc: 0.0859\n",
            "Epoch 16/100\n",
            "15462/15462 [==============================] - 39s 3ms/sample - loss: 5.1536 - acc: 0.0913\n",
            "Epoch 17/100\n",
            "15462/15462 [==============================] - 40s 3ms/sample - loss: 5.0575 - acc: 0.0979\n",
            "Epoch 18/100\n",
            "15462/15462 [==============================] - 40s 3ms/sample - loss: 4.9585 - acc: 0.1052\n",
            "Epoch 19/100\n",
            "15462/15462 [==============================] - 39s 3ms/sample - loss: 4.8580 - acc: 0.1130\n",
            "Epoch 20/100\n",
            "15462/15462 [==============================] - 39s 3ms/sample - loss: 4.7566 - acc: 0.1209\n",
            "Epoch 21/100\n",
            "15462/15462 [==============================] - 39s 3ms/sample - loss: 4.6595 - acc: 0.1297\n",
            "Epoch 22/100\n",
            "15462/15462 [==============================] - 39s 3ms/sample - loss: 4.5597 - acc: 0.1411\n",
            "Epoch 23/100\n",
            "15462/15462 [==============================] - 39s 3ms/sample - loss: 4.4611 - acc: 0.1505\n",
            "Epoch 24/100\n",
            "15462/15462 [==============================] - 39s 3ms/sample - loss: 4.3613 - acc: 0.1625\n",
            "Epoch 25/100\n",
            "15462/15462 [==============================] - 39s 3ms/sample - loss: 4.2556 - acc: 0.1782\n",
            "Epoch 26/100\n",
            "15462/15462 [==============================] - 40s 3ms/sample - loss: 4.1560 - acc: 0.1885\n",
            "Epoch 27/100\n",
            "15462/15462 [==============================] - 40s 3ms/sample - loss: 4.0546 - acc: 0.2025\n",
            "Epoch 28/100\n",
            "15462/15462 [==============================] - 39s 3ms/sample - loss: 3.9536 - acc: 0.2202\n",
            "Epoch 29/100\n",
            "15462/15462 [==============================] - 40s 3ms/sample - loss: 3.8495 - acc: 0.2339\n",
            "Epoch 30/100\n",
            "15462/15462 [==============================] - 40s 3ms/sample - loss: 3.7501 - acc: 0.2549\n",
            "Epoch 31/100\n",
            "15462/15462 [==============================] - 40s 3ms/sample - loss: 3.6549 - acc: 0.2718\n",
            "Epoch 32/100\n",
            "15462/15462 [==============================] - 40s 3ms/sample - loss: 3.5702 - acc: 0.2917\n",
            "Epoch 33/100\n",
            "15462/15462 [==============================] - 40s 3ms/sample - loss: 3.4762 - acc: 0.3052\n",
            "Epoch 34/100\n",
            "15462/15462 [==============================] - 40s 3ms/sample - loss: 3.3864 - acc: 0.3247\n",
            "Epoch 35/100\n",
            "15462/15462 [==============================] - 40s 3ms/sample - loss: 3.3070 - acc: 0.3467\n",
            "Epoch 36/100\n",
            "15462/15462 [==============================] - 39s 3ms/sample - loss: 3.2296 - acc: 0.3615\n",
            "Epoch 37/100\n",
            "15462/15462 [==============================] - 40s 3ms/sample - loss: 3.1410 - acc: 0.3855\n",
            "Epoch 38/100\n",
            "15462/15462 [==============================] - 39s 3ms/sample - loss: 3.0682 - acc: 0.4001\n",
            "Epoch 39/100\n",
            "15462/15462 [==============================] - 40s 3ms/sample - loss: 2.9941 - acc: 0.4162\n",
            "Epoch 40/100\n",
            "15462/15462 [==============================] - 40s 3ms/sample - loss: 2.9248 - acc: 0.4305\n",
            "Epoch 41/100\n",
            "15462/15462 [==============================] - 40s 3ms/sample - loss: 2.8521 - acc: 0.4486\n",
            "Epoch 42/100\n",
            "15462/15462 [==============================] - 39s 3ms/sample - loss: 2.7870 - acc: 0.4632\n",
            "Epoch 43/100\n",
            "15462/15462 [==============================] - 39s 3ms/sample - loss: 2.7173 - acc: 0.4792\n",
            "Epoch 44/100\n",
            "15462/15462 [==============================] - 39s 3ms/sample - loss: 2.6531 - acc: 0.4922\n",
            "Epoch 45/100\n",
            "15462/15462 [==============================] - 39s 3ms/sample - loss: 2.6011 - acc: 0.5036\n",
            "Epoch 46/100\n",
            "15462/15462 [==============================] - 39s 3ms/sample - loss: 2.5500 - acc: 0.5157\n",
            "Epoch 47/100\n",
            "15462/15462 [==============================] - 39s 3ms/sample - loss: 2.4882 - acc: 0.5285\n",
            "Epoch 48/100\n",
            "15462/15462 [==============================] - 39s 3ms/sample - loss: 2.4351 - acc: 0.5422\n",
            "Epoch 49/100\n",
            "15462/15462 [==============================] - 39s 3ms/sample - loss: 2.3822 - acc: 0.5532\n",
            "Epoch 50/100\n",
            "15462/15462 [==============================] - 39s 3ms/sample - loss: 2.3287 - acc: 0.5673\n",
            "Epoch 51/100\n",
            "15462/15462 [==============================] - 39s 3ms/sample - loss: 2.2848 - acc: 0.5763\n",
            "Epoch 52/100\n",
            "15462/15462 [==============================] - 39s 3ms/sample - loss: 2.2282 - acc: 0.5868\n",
            "Epoch 53/100\n",
            "15462/15462 [==============================] - 39s 3ms/sample - loss: 2.1923 - acc: 0.5928\n",
            "Epoch 54/100\n",
            "15462/15462 [==============================] - 39s 3ms/sample - loss: 2.1496 - acc: 0.6039\n",
            "Epoch 55/100\n",
            "15462/15462 [==============================] - 39s 3ms/sample - loss: 2.0980 - acc: 0.6151\n",
            "Epoch 56/100\n",
            "15462/15462 [==============================] - 39s 2ms/sample - loss: 2.0687 - acc: 0.6221\n",
            "Epoch 57/100\n",
            "15462/15462 [==============================] - 39s 3ms/sample - loss: 2.0236 - acc: 0.6315\n",
            "Epoch 58/100\n",
            "15462/15462 [==============================] - 39s 3ms/sample - loss: 1.9844 - acc: 0.6377\n",
            "Epoch 59/100\n",
            "15462/15462 [==============================] - 39s 3ms/sample - loss: 1.9508 - acc: 0.6440\n",
            "Epoch 60/100\n",
            "15462/15462 [==============================] - 39s 3ms/sample - loss: 1.9144 - acc: 0.6557\n",
            "Epoch 61/100\n",
            "15462/15462 [==============================] - 39s 3ms/sample - loss: 1.8977 - acc: 0.6565\n",
            "Epoch 62/100\n",
            "15462/15462 [==============================] - 39s 3ms/sample - loss: 1.8577 - acc: 0.6693\n",
            "Epoch 63/100\n",
            "15462/15462 [==============================] - 39s 3ms/sample - loss: 1.8206 - acc: 0.6726\n",
            "Epoch 64/100\n",
            "15462/15462 [==============================] - 39s 3ms/sample - loss: 1.7772 - acc: 0.6836\n",
            "Epoch 65/100\n",
            "15462/15462 [==============================] - 39s 3ms/sample - loss: 1.7509 - acc: 0.6890\n",
            "Epoch 66/100\n",
            "15462/15462 [==============================] - 39s 3ms/sample - loss: 1.7392 - acc: 0.6904\n",
            "Epoch 67/100\n",
            "15462/15462 [==============================] - 39s 3ms/sample - loss: 1.7074 - acc: 0.6960\n",
            "Epoch 68/100\n",
            "15462/15462 [==============================] - 39s 3ms/sample - loss: 1.6853 - acc: 0.7032\n",
            "Epoch 69/100\n",
            "15462/15462 [==============================] - 39s 3ms/sample - loss: 1.6504 - acc: 0.7114\n",
            "Epoch 70/100\n",
            "15462/15462 [==============================] - 40s 3ms/sample - loss: 1.6263 - acc: 0.7121\n",
            "Epoch 71/100\n",
            "15462/15462 [==============================] - 39s 3ms/sample - loss: 1.6092 - acc: 0.7174\n",
            "Epoch 72/100\n",
            "15462/15462 [==============================] - 39s 3ms/sample - loss: 1.5772 - acc: 0.7233\n",
            "Epoch 73/100\n",
            "15462/15462 [==============================] - 39s 3ms/sample - loss: 1.5694 - acc: 0.7199\n",
            "Epoch 74/100\n",
            "15462/15462 [==============================] - 40s 3ms/sample - loss: 1.5513 - acc: 0.7267\n",
            "Epoch 75/100\n",
            "15462/15462 [==============================] - 40s 3ms/sample - loss: 1.5243 - acc: 0.7316\n",
            "Epoch 76/100\n",
            "15462/15462 [==============================] - 40s 3ms/sample - loss: 1.4845 - acc: 0.7404\n",
            "Epoch 77/100\n",
            "15462/15462 [==============================] - 40s 3ms/sample - loss: 1.4702 - acc: 0.7432\n",
            "Epoch 78/100\n",
            "15462/15462 [==============================] - 40s 3ms/sample - loss: 1.4555 - acc: 0.7425\n",
            "Epoch 79/100\n",
            "15462/15462 [==============================] - 40s 3ms/sample - loss: 1.4214 - acc: 0.7546\n",
            "Epoch 80/100\n",
            "15462/15462 [==============================] - 40s 3ms/sample - loss: 1.4104 - acc: 0.7558\n",
            "Epoch 81/100\n",
            "15462/15462 [==============================] - 40s 3ms/sample - loss: 1.4128 - acc: 0.7515\n",
            "Epoch 82/100\n",
            "15462/15462 [==============================] - 40s 3ms/sample - loss: 1.3765 - acc: 0.7606\n",
            "Epoch 83/100\n",
            "15462/15462 [==============================] - 40s 3ms/sample - loss: 1.3695 - acc: 0.7590\n",
            "Epoch 84/100\n",
            "15462/15462 [==============================] - 40s 3ms/sample - loss: 1.3660 - acc: 0.7593\n",
            "Epoch 85/100\n",
            "15462/15462 [==============================] - 40s 3ms/sample - loss: 1.3337 - acc: 0.7684\n",
            "Epoch 86/100\n",
            "15462/15462 [==============================] - 40s 3ms/sample - loss: 1.3167 - acc: 0.7722\n",
            "Epoch 87/100\n",
            "15462/15462 [==============================] - 40s 3ms/sample - loss: 1.3137 - acc: 0.7713\n",
            "Epoch 88/100\n",
            "15462/15462 [==============================] - 40s 3ms/sample - loss: 1.2851 - acc: 0.7770\n",
            "Epoch 89/100\n",
            "15462/15462 [==============================] - 40s 3ms/sample - loss: 1.2780 - acc: 0.7786\n",
            "Epoch 90/100\n",
            "15462/15462 [==============================] - 40s 3ms/sample - loss: 1.2582 - acc: 0.7822\n",
            "Epoch 91/100\n",
            "15462/15462 [==============================] - 40s 3ms/sample - loss: 1.2561 - acc: 0.7812\n",
            "Epoch 92/100\n",
            "15462/15462 [==============================] - 40s 3ms/sample - loss: 1.2489 - acc: 0.7822\n",
            "Epoch 93/100\n",
            "15462/15462 [==============================] - 40s 3ms/sample - loss: 1.2312 - acc: 0.7870\n",
            "Epoch 94/100\n",
            "15462/15462 [==============================] - 40s 3ms/sample - loss: 1.2153 - acc: 0.7878\n",
            "Epoch 95/100\n",
            "15462/15462 [==============================] - 40s 3ms/sample - loss: 1.2056 - acc: 0.7892\n",
            "Epoch 96/100\n",
            "15462/15462 [==============================] - 40s 3ms/sample - loss: 1.1850 - acc: 0.7919\n",
            "Epoch 97/100\n",
            "15462/15462 [==============================] - 40s 3ms/sample - loss: 1.1811 - acc: 0.7951\n",
            "Epoch 98/100\n",
            "15462/15462 [==============================] - 39s 3ms/sample - loss: 1.1666 - acc: 0.7969\n",
            "Epoch 99/100\n",
            "15462/15462 [==============================] - 39s 3ms/sample - loss: 1.1768 - acc: 0.7923\n",
            "Epoch 100/100\n",
            "15462/15462 [==============================] - 39s 3ms/sample - loss: 1.1636 - acc: 0.7952\n"
          ],
          "name": "stdout"
        }
      ]
    },
    {
      "cell_type": "code",
      "metadata": {
        "id": "1fXTEO3GJ282",
        "colab_type": "code",
        "colab": {
          "base_uri": "https://localhost:8080/",
          "height": 545
        },
        "outputId": "44305e82-862c-48bb-8aa8-789264dbea6d"
      },
      "source": [
        "import matplotlib.pyplot as plt\n",
        "acc = history.history['acc']\n",
        "loss = history.history['loss']\n",
        "\n",
        "epochs = range(len(acc))\n",
        "\n",
        "plt.plot(epochs, acc, 'b', label='Training accuracy')\n",
        "plt.title('Training accuracy')\n",
        "\n",
        "plt.figure()\n",
        "\n",
        "plt.plot(epochs, loss, 'b', label='Training Loss')\n",
        "plt.title('Training loss')\n",
        "plt.legend()\n",
        "\n",
        "plt.show()"
      ],
      "execution_count": 5,
      "outputs": [
        {
          "output_type": "display_data",
          "data": {
            "image/png": "[encoded data removed]",
            "text/plain": [
              "<Figure size 432x288 with 1 Axes>"
            ]
          },
          "metadata": {
            "tags": []
          }
        },
        {
          "output_type": "display_data",
          "data": {
            "image/png": "[encoded data removed]",
            "text/plain": [
              "<Figure size 432x288 with 1 Axes>"
            ]
          },
          "metadata": {
            "tags": []
          }
        }
      ]
    },
    {
      "cell_type": "code",
      "metadata": {
        "id": "6Vc6PHgxa6Hm",
        "colab_type": "code",
        "colab": {
          "base_uri": "https://localhost:8080/",
          "height": 54
        },
        "outputId": "60d0f158-e17c-40a3-ec6a-5e8a7cfecaa2"
      },
      "source": [
        "seed_text = \"Help me Obi Wan Kenobi, you're my only hope\"\n",
        "next_words = 100\n",
        "  \n",
        "for _ in range(next_words):\n",
        "\ttoken_list = tokenizer.texts_to_sequences([seed_text])[0]\n",
        "\ttoken_list = pad_sequences([token_list], maxlen=max_sequence_len-1, padding='pre')\n",
        "\tpredicted = model.predict_classes(token_list, verbose=0)\n",
        "\toutput_word = \"\"\n",
        "\tfor word, index in tokenizer.word_index.items():\n",
        "\t\tif index == predicted:\n",
        "\t\t\toutput_word = word\n",
        "\t\t\tbreak\n",
        "\tseed_text += \" \" + output_word\n",
        "print(seed_text)"
      ],
      "execution_count": 6,
      "outputs": [
        {
          "output_type": "stream",
          "text": [
            "Help me Obi Wan Kenobi, you're my only hope of vassalage these care when held dyed grow hence greater heir rhyme held light prove prove bright loss bright in done stay back thee with foes grow light hence back another brow place old rest twain new ' new hence go we must live add me new twain twain lend rest twain lend life tongue light hate moan me days light go so young hence needing exceeds twain twain twain twain dyed lend memory spend lend life new part hate light go well wide part of this large knife report ' lend me words hence used dyed seen wrong dyed\n"
          ],
          "name": "stdout"
        }
      ]
    }
  ]
}