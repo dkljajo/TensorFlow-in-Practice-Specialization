{
  "nbformat": 4,
  "nbformat_minor": 0,
  "metadata": {
    "colab": {
      "name": "S+P Week 3 Lesson 4 - LSTM.ipynb",
      "provenance": [],
      "collapsed_sections": []
    },
    "kernelspec": {
      "name": "python3",
      "display_name": "Python 3"
    },
    "accelerator": "GPU"
  },
  "cells": [
    {
      "cell_type": "code",
      "metadata": {
        "id": "D1J15Vh_1Jih",
        "colab_type": "code",
        "colab": {
          "base_uri": "https://localhost:8080/",
          "height": 530
        },
        "outputId": "370098fa-fc15-485c-a019-aae73ae61808"
      },
      "source": [
        "!pip install tf-nightly-2.0-preview\n"
      ],
      "execution_count": 4,
      "outputs": [
        {
          "output_type": "stream",
          "text": [
            "Collecting tf-nightly-2.0-preview\n",
            "\u001b[?25l  Downloading https://files.pythonhosted.org/packages/b8/be/e4e2cc0b4896648fe6d5e45dda6d8c3b784823301708cfe4ff96de9e01cf/tf_nightly_2.0_preview-2.0.0.dev20191002-cp36-cp36m-manylinux2010_x86_64.whl (95.2MB)\n",
            "\u001b[K     |████████████████████████████████| 95.2MB 2.1MB/s \n",
            "\u001b[?25hRequirement already satisfied: six>=1.10.0 in /usr/local/lib/python3.6/dist-packages (from tf-nightly-2.0-preview) (1.12.0)\n",
            "Requirement already satisfied: keras-preprocessing>=1.0.5 in /usr/local/lib/python3.6/dist-packages (from tf-nightly-2.0-preview) (1.1.0)\n",
            "Requirement already satisfied: protobuf>=3.6.1 in /usr/local/lib/python3.6/dist-packages (from tf-nightly-2.0-preview) (3.7.1)\n",
            "Requirement already satisfied: absl-py>=0.7.0 in /usr/local/lib/python3.6/dist-packages (from tf-nightly-2.0-preview) (0.8.0)\n",
            "Collecting tensorflow-estimator-2.0-preview (from tf-nightly-2.0-preview)\n",
            "\u001b[?25l  Downloading https://files.pythonhosted.org/packages/db/f5/790508e193121ab301cb40cada7f451c531404051ac9249f21b1f5484450/tensorflow_estimator_2.0_preview-2.0.0-py2.py3-none-any.whl (449kB)\n",
            "\u001b[K     |████████████████████████████████| 450kB 41.4MB/s \n",
            "\u001b[?25hRequirement already satisfied: wrapt>=1.11.1 in /usr/local/lib/python3.6/dist-packages (from tf-nightly-2.0-preview) (1.11.2)\n",
            "Requirement already satisfied: wheel>=0.26; python_version >= \"3\" in /usr/local/lib/python3.6/dist-packages (from tf-nightly-2.0-preview) (0.33.6)\n",
            "Requirement already satisfied: google-pasta>=0.1.6 in /usr/local/lib/python3.6/dist-packages (from tf-nightly-2.0-preview) (0.1.7)\n",
            "Requirement already satisfied: numpy<2.0,>=1.16.0 in /usr/local/lib/python3.6/dist-packages (from tf-nightly-2.0-preview) (1.16.5)\n",
            "Requirement already satisfied: gast==0.2.2 in /usr/local/lib/python3.6/dist-packages (from tf-nightly-2.0-preview) (0.2.2)\n",
            "Requirement already satisfied: termcolor>=1.1.0 in /usr/local/lib/python3.6/dist-packages (from tf-nightly-2.0-preview) (1.1.0)\n",
            "Collecting tb-nightly<2.2.0a0,>=2.1.0a0 (from tf-nightly-2.0-preview)\n",
            "\u001b[?25l  Downloading https://files.pythonhosted.org/packages/67/95/daf772b5b3937e76f9ce586e7cabb22f686b2ceab7b89fb97359ea6325fd/tb_nightly-2.1.0a20191014-py3-none-any.whl (3.8MB)\n",
            "\u001b[K     |████████████████████████████████| 3.8MB 32.4MB/s \n",
            "\u001b[?25hRequirement already satisfied: grpcio>=1.8.6 in /usr/local/lib/python3.6/dist-packages (from tf-nightly-2.0-preview) (1.15.0)\n",
            "Requirement already satisfied: astor>=0.6.0 in /usr/local/lib/python3.6/dist-packages (from tf-nightly-2.0-preview) (0.8.0)\n",
            "Requirement already satisfied: opt-einsum>=2.3.2 in /usr/local/lib/python3.6/dist-packages (from tf-nightly-2.0-preview) (3.1.0)\n",
            "Requirement already satisfied: keras-applications>=1.0.8 in /usr/local/lib/python3.6/dist-packages (from tf-nightly-2.0-preview) (1.0.8)\n",
            "Requirement already satisfied: setuptools in /usr/local/lib/python3.6/dist-packages (from protobuf>=3.6.1->tf-nightly-2.0-preview) (41.2.0)\n",
            "Requirement already satisfied: markdown>=2.6.8 in /usr/local/lib/python3.6/dist-packages (from tb-nightly<2.2.0a0,>=2.1.0a0->tf-nightly-2.0-preview) (3.1.1)\n",
            "Requirement already satisfied: werkzeug>=0.11.15 in /usr/local/lib/python3.6/dist-packages (from tb-nightly<2.2.0a0,>=2.1.0a0->tf-nightly-2.0-preview) (0.16.0)\n",
            "Requirement already satisfied: h5py in /usr/local/lib/python3.6/dist-packages (from keras-applications>=1.0.8->tf-nightly-2.0-preview) (2.8.0)\n",
            "Installing collected packages: tensorflow-estimator-2.0-preview, tb-nightly, tf-nightly-2.0-preview\n",
            "Successfully installed tb-nightly-2.1.0a20191014 tensorflow-estimator-2.0-preview-2.0.0 tf-nightly-2.0-preview-2.0.0.dev20191002\n"
          ],
          "name": "stdout"
        }
      ]
    },
    {
      "cell_type": "code",
      "metadata": {
        "id": "BOjujz601HcS",
        "colab_type": "code",
        "outputId": "f8f76eb5-f5f9-4735-b292-1b5329804e94",
        "colab": {
          "base_uri": "https://localhost:8080/",
          "height": 34
        }
      },
      "source": [
        "import tensorflow as tf\n",
        "import numpy as np\n",
        "import matplotlib.pyplot as plt\n",
        "print(tf.__version__)"
      ],
      "execution_count": 5,
      "outputs": [
        {
          "output_type": "stream",
          "text": [
            "2.0.0-dev20191002\n"
          ],
          "name": "stdout"
        }
      ]
    },
    {
      "cell_type": "code",
      "metadata": {
        "colab_type": "code",
        "id": "Zswl7jRtGzkk",
        "colab": {}
      },
      "source": [
        "def plot_series(time, series, format=\"-\", start=0, end=None):\n",
        "    plt.plot(time[start:end], series[start:end], format)\n",
        "    plt.xlabel(\"Time\")\n",
        "    plt.ylabel(\"Value\")\n",
        "    plt.grid(True)\n",
        "\n",
        "def trend(time, slope=0):\n",
        "    return slope * time\n",
        "\n",
        "def seasonal_pattern(season_time):\n",
        "    \"\"\"Just an arbitrary pattern, you can change it if you wish\"\"\"\n",
        "    return np.where(season_time < 0.4,\n",
        "                    np.cos(season_time * 2 * np.pi),\n",
        "                    1 / np.exp(3 * season_time))\n",
        "\n",
        "def seasonality(time, period, amplitude=1, phase=0):\n",
        "    \"\"\"Repeats the same pattern at each period\"\"\"\n",
        "    season_time = ((time + phase) % period) / period\n",
        "    return amplitude * seasonal_pattern(season_time)\n",
        "\n",
        "def noise(time, noise_level=1, seed=None):\n",
        "    rnd = np.random.RandomState(seed)\n",
        "    return rnd.randn(len(time)) * noise_level\n",
        "\n",
        "time = np.arange(4 * 365 + 1, dtype=\"float32\")\n",
        "baseline = 10\n",
        "series = trend(time, 0.1)  \n",
        "baseline = 10\n",
        "amplitude = 40\n",
        "slope = 0.05\n",
        "noise_level = 5\n",
        "\n",
        "# Create the series\n",
        "series = baseline + trend(time, slope) + seasonality(time, period=365, amplitude=amplitude)\n",
        "# Update with noise\n",
        "series += noise(time, noise_level, seed=42)\n",
        "\n",
        "split_time = 1000\n",
        "time_train = time[:split_time]\n",
        "x_train = series[:split_time]\n",
        "time_valid = time[split_time:]\n",
        "x_valid = series[split_time:]\n",
        "\n",
        "window_size = 20\n",
        "batch_size = 32\n",
        "shuffle_buffer_size = 1000"
      ],
      "execution_count": 0,
      "outputs": []
    },
    {
      "cell_type": "code",
      "metadata": {
        "id": "4sTTIOCbyShY",
        "colab_type": "code",
        "colab": {}
      },
      "source": [
        "def windowed_dataset(series, window_size, batch_size, shuffle_buffer):\n",
        "  dataset = tf.data.Dataset.from_tensor_slices(series)\n",
        "  dataset = dataset.window(window_size + 1, shift=1, drop_remainder=True)\n",
        "  dataset = dataset.flat_map(lambda window: window.batch(window_size + 1))\n",
        "  dataset = dataset.shuffle(shuffle_buffer).map(lambda window: (window[:-1], window[-1]))\n",
        "  dataset = dataset.batch(batch_size).prefetch(1)\n",
        "  return dataset"
      ],
      "execution_count": 0,
      "outputs": []
    },
    {
      "cell_type": "code",
      "metadata": {
        "id": "A1Hl39rklkLm",
        "colab_type": "code",
        "outputId": "479af357-0395-4805-bdd6-88f67d656a7c",
        "colab": {
          "base_uri": "https://localhost:8080/",
          "height": 1000
        }
      },
      "source": [
        "tf.keras.backend.clear_session()\n",
        "tf.random.set_seed(51)\n",
        "np.random.seed(51)\n",
        "\n",
        "tf.keras.backend.clear_session()\n",
        "dataset = windowed_dataset(x_train, window_size, batch_size, shuffle_buffer_size)\n",
        "\n",
        "model = tf.keras.models.Sequential([\n",
        "  tf.keras.layers.Lambda(lambda x: tf.expand_dims(x, axis=-1),\n",
        "                      input_shape=[None]),\n",
        "    tf.keras.layers.Bidirectional(tf.keras.layers.LSTM(32, return_sequences=True)),\n",
        "  tf.keras.layers.Bidirectional(tf.keras.layers.LSTM(32)),\n",
        "  tf.keras.layers.Dense(1),\n",
        "  tf.keras.layers.Lambda(lambda x: x * 100.0)\n",
        "])\n",
        "\n",
        "lr_schedule = tf.keras.callbacks.LearningRateScheduler(\n",
        "    lambda epoch: 1e-8 * 10**(epoch / 20))\n",
        "optimizer = tf.keras.optimizers.SGD(lr=1e-8, momentum=0.9)\n",
        "model.compile(loss=tf.keras.losses.Huber(),\n",
        "              optimizer=optimizer,\n",
        "              metrics=[\"mae\"])\n",
        "history = model.fit(dataset, epochs=100, callbacks=[lr_schedule])"
      ],
      "execution_count": 8,
      "outputs": [
        {
          "output_type": "stream",
          "text": [
            "Epoch 1/100\n",
            "31/31 [==============================] - 6s 202ms/step - loss: 21.4949 - mae: 22.0115\n",
            "Epoch 2/100\n",
            "31/31 [==============================] - 1s 39ms/step - loss: 21.1128 - mae: 21.6440\n",
            "Epoch 3/100\n",
            "31/31 [==============================] - 1s 36ms/step - loss: 20.7468 - mae: 21.2278\n",
            "Epoch 4/100\n",
            "31/31 [==============================] - 1s 38ms/step - loss: 20.3564 - mae: 20.7739\n",
            "Epoch 5/100\n",
            "31/31 [==============================] - 1s 36ms/step - loss: 19.7907 - mae: 20.2843\n",
            "Epoch 6/100\n",
            "31/31 [==============================] - 1s 37ms/step - loss: 19.1428 - mae: 19.6776\n",
            "Epoch 7/100\n",
            "31/31 [==============================] - 1s 37ms/step - loss: 18.2205 - mae: 18.7308\n",
            "Epoch 8/100\n",
            "31/31 [==============================] - 1s 37ms/step - loss: 17.5280 - mae: 17.9757\n",
            "Epoch 9/100\n",
            "31/31 [==============================] - 1s 36ms/step - loss: 17.1315 - mae: 17.6581\n",
            "Epoch 10/100\n",
            "31/31 [==============================] - 1s 36ms/step - loss: 16.8294 - mae: 17.3457\n",
            "Epoch 11/100\n",
            "31/31 [==============================] - 1s 35ms/step - loss: 16.5175 - mae: 17.0459\n",
            "Epoch 12/100\n",
            "31/31 [==============================] - 1s 36ms/step - loss: 16.2835 - mae: 16.7529\n",
            "Epoch 13/100\n",
            "31/31 [==============================] - 1s 36ms/step - loss: 15.9576 - mae: 16.4573\n",
            "Epoch 14/100\n",
            "31/31 [==============================] - 1s 37ms/step - loss: 15.6444 - mae: 16.1587\n",
            "Epoch 15/100\n",
            "31/31 [==============================] - 1s 36ms/step - loss: 15.3548 - mae: 15.8571\n",
            "Epoch 16/100\n",
            "31/31 [==============================] - 1s 36ms/step - loss: 15.0615 - mae: 15.5765\n",
            "Epoch 17/100\n",
            "31/31 [==============================] - 1s 37ms/step - loss: 14.8060 - mae: 15.2950\n",
            "Epoch 18/100\n",
            "31/31 [==============================] - 1s 35ms/step - loss: 14.5474 - mae: 15.0164\n",
            "Epoch 19/100\n",
            "31/31 [==============================] - 1s 37ms/step - loss: 14.2308 - mae: 14.7612\n",
            "Epoch 20/100\n",
            "31/31 [==============================] - 1s 36ms/step - loss: 14.0179 - mae: 14.5354\n",
            "Epoch 21/100\n",
            "31/31 [==============================] - 1s 37ms/step - loss: 13.8130 - mae: 14.3081\n",
            "Epoch 22/100\n",
            "31/31 [==============================] - 1s 37ms/step - loss: 13.5935 - mae: 14.1062\n",
            "Epoch 23/100\n",
            "31/31 [==============================] - 1s 36ms/step - loss: 13.3985 - mae: 13.8858\n",
            "Epoch 24/100\n",
            "31/31 [==============================] - 1s 36ms/step - loss: 13.2187 - mae: 13.7037\n",
            "Epoch 25/100\n",
            "31/31 [==============================] - 1s 37ms/step - loss: 12.9267 - mae: 13.4526\n",
            "Epoch 26/100\n",
            "31/31 [==============================] - 1s 38ms/step - loss: 12.7290 - mae: 13.2327\n",
            "Epoch 27/100\n",
            "31/31 [==============================] - 1s 37ms/step - loss: 12.4543 - mae: 12.9716\n",
            "Epoch 28/100\n",
            "31/31 [==============================] - 1s 37ms/step - loss: 12.2231 - mae: 12.7095\n",
            "Epoch 29/100\n",
            "31/31 [==============================] - 1s 37ms/step - loss: 12.3309 - mae: 12.8460\n",
            "Epoch 30/100\n",
            "31/31 [==============================] - 1s 35ms/step - loss: 11.8069 - mae: 12.3121\n",
            "Epoch 31/100\n",
            "31/31 [==============================] - 1s 37ms/step - loss: 11.3216 - mae: 11.8148\n",
            "Epoch 32/100\n",
            "31/31 [==============================] - 1s 36ms/step - loss: 11.0173 - mae: 11.4830\n",
            "Epoch 33/100\n",
            "31/31 [==============================] - 1s 35ms/step - loss: 10.6577 - mae: 11.1361\n",
            "Epoch 34/100\n",
            "31/31 [==============================] - 1s 36ms/step - loss: 10.8241 - mae: 11.3007\n",
            "Epoch 35/100\n",
            "31/31 [==============================] - 1s 38ms/step - loss: 10.9697 - mae: 11.4606\n",
            "Epoch 36/100\n",
            "31/31 [==============================] - 1s 38ms/step - loss: 10.4872 - mae: 10.9636\n",
            "Epoch 37/100\n",
            "31/31 [==============================] - 1s 36ms/step - loss: 10.0051 - mae: 10.4892\n",
            "Epoch 38/100\n",
            "31/31 [==============================] - 1s 36ms/step - loss: 9.5181 - mae: 10.0283\n",
            "Epoch 39/100\n",
            "31/31 [==============================] - 1s 36ms/step - loss: 9.0591 - mae: 9.5461\n",
            "Epoch 40/100\n",
            "31/31 [==============================] - 1s 35ms/step - loss: 8.6498 - mae: 9.1358\n",
            "Epoch 41/100\n",
            "31/31 [==============================] - 1s 37ms/step - loss: 8.2329 - mae: 8.7356\n",
            "Epoch 42/100\n",
            "31/31 [==============================] - 1s 37ms/step - loss: 7.9299 - mae: 8.4081\n",
            "Epoch 43/100\n",
            "31/31 [==============================] - 1s 36ms/step - loss: 7.6007 - mae: 8.1137\n",
            "Epoch 44/100\n",
            "31/31 [==============================] - 1s 37ms/step - loss: 7.3032 - mae: 7.8033\n",
            "Epoch 45/100\n",
            "31/31 [==============================] - 1s 37ms/step - loss: 7.0877 - mae: 7.5770\n",
            "Epoch 46/100\n",
            "31/31 [==============================] - 1s 37ms/step - loss: 6.8843 - mae: 7.3933\n",
            "Epoch 47/100\n",
            "31/31 [==============================] - 1s 37ms/step - loss: 6.6226 - mae: 7.0771\n",
            "Epoch 48/100\n",
            "31/31 [==============================] - 1s 36ms/step - loss: 6.4349 - mae: 6.9074\n",
            "Epoch 49/100\n",
            "31/31 [==============================] - 1s 37ms/step - loss: 6.3954 - mae: 6.8757\n",
            "Epoch 50/100\n",
            "31/31 [==============================] - 1s 36ms/step - loss: 6.0277 - mae: 6.5164\n",
            "Epoch 51/100\n",
            "31/31 [==============================] - 1s 36ms/step - loss: 5.8894 - mae: 6.3634\n",
            "Epoch 52/100\n",
            "31/31 [==============================] - 1s 35ms/step - loss: 5.7521 - mae: 6.2421\n",
            "Epoch 53/100\n",
            "31/31 [==============================] - 1s 36ms/step - loss: 5.6553 - mae: 6.1419\n",
            "Epoch 54/100\n",
            "31/31 [==============================] - 1s 36ms/step - loss: 5.4473 - mae: 5.9468\n",
            "Epoch 55/100\n",
            "31/31 [==============================] - 1s 36ms/step - loss: 5.4122 - mae: 5.9006\n",
            "Epoch 56/100\n",
            "31/31 [==============================] - 1s 36ms/step - loss: 5.2623 - mae: 5.7471\n",
            "Epoch 57/100\n",
            "31/31 [==============================] - 1s 36ms/step - loss: 5.3106 - mae: 5.7881\n",
            "Epoch 58/100\n",
            "31/31 [==============================] - 1s 37ms/step - loss: 5.1929 - mae: 5.6591\n",
            "Epoch 59/100\n",
            "31/31 [==============================] - 1s 36ms/step - loss: 5.2541 - mae: 5.7545\n",
            "Epoch 60/100\n",
            "31/31 [==============================] - 1s 37ms/step - loss: 5.1063 - mae: 5.5567\n",
            "Epoch 61/100\n",
            "31/31 [==============================] - 1s 36ms/step - loss: 4.9472 - mae: 5.4250\n",
            "Epoch 62/100\n",
            "31/31 [==============================] - 1s 37ms/step - loss: 5.0917 - mae: 5.5808\n",
            "Epoch 63/100\n",
            "31/31 [==============================] - 1s 37ms/step - loss: 5.1680 - mae: 5.6630\n",
            "Epoch 64/100\n",
            "31/31 [==============================] - 1s 36ms/step - loss: 5.0575 - mae: 5.5312\n",
            "Epoch 65/100\n",
            "31/31 [==============================] - 1s 37ms/step - loss: 4.9006 - mae: 5.3900\n",
            "Epoch 66/100\n",
            "31/31 [==============================] - 1s 37ms/step - loss: 5.2745 - mae: 5.7637\n",
            "Epoch 67/100\n",
            "31/31 [==============================] - 1s 37ms/step - loss: 5.2607 - mae: 5.7446\n",
            "Epoch 68/100\n",
            "31/31 [==============================] - 1s 35ms/step - loss: 5.2219 - mae: 5.7234\n",
            "Epoch 69/100\n",
            "31/31 [==============================] - 1s 36ms/step - loss: 5.3456 - mae: 5.8346\n",
            "Epoch 70/100\n",
            "31/31 [==============================] - 1s 36ms/step - loss: 6.1695 - mae: 6.6386\n",
            "Epoch 71/100\n",
            "31/31 [==============================] - 1s 37ms/step - loss: 4.9524 - mae: 5.4135\n",
            "Epoch 72/100\n",
            "31/31 [==============================] - 1s 35ms/step - loss: 5.5661 - mae: 6.0636\n",
            "Epoch 73/100\n",
            "31/31 [==============================] - 1s 35ms/step - loss: 5.3435 - mae: 5.8208\n",
            "Epoch 74/100\n",
            "31/31 [==============================] - 1s 36ms/step - loss: 6.7295 - mae: 7.1966\n",
            "Epoch 75/100\n",
            "31/31 [==============================] - 1s 37ms/step - loss: 5.7209 - mae: 6.1957\n",
            "Epoch 76/100\n",
            "31/31 [==============================] - 1s 36ms/step - loss: 5.1361 - mae: 5.6158\n",
            "Epoch 77/100\n",
            "31/31 [==============================] - 1s 36ms/step - loss: 5.7700 - mae: 6.2385\n",
            "Epoch 78/100\n",
            "31/31 [==============================] - 1s 37ms/step - loss: 7.1160 - mae: 7.6426\n",
            "Epoch 79/100\n",
            "31/31 [==============================] - 1s 37ms/step - loss: 5.1408 - mae: 5.5955\n",
            "Epoch 80/100\n",
            "31/31 [==============================] - 1s 36ms/step - loss: 6.5603 - mae: 7.0136\n",
            "Epoch 81/100\n",
            "31/31 [==============================] - 1s 38ms/step - loss: 6.5901 - mae: 7.1079\n",
            "Epoch 82/100\n",
            "31/31 [==============================] - 1s 37ms/step - loss: 6.7842 - mae: 7.2374\n",
            "Epoch 83/100\n",
            "31/31 [==============================] - 1s 36ms/step - loss: 6.3530 - mae: 6.8347\n",
            "Epoch 84/100\n",
            "31/31 [==============================] - 1s 37ms/step - loss: 5.8671 - mae: 6.3277\n",
            "Epoch 85/100\n",
            "31/31 [==============================] - 1s 36ms/step - loss: 7.1769 - mae: 7.6007\n",
            "Epoch 86/100\n",
            "31/31 [==============================] - 1s 35ms/step - loss: 7.4673 - mae: 7.9559\n",
            "Epoch 87/100\n",
            "31/31 [==============================] - 1s 35ms/step - loss: 8.0605 - mae: 8.5456\n",
            "Epoch 88/100\n",
            "31/31 [==============================] - 1s 36ms/step - loss: 6.9597 - mae: 7.4773\n",
            "Epoch 89/100\n",
            "31/31 [==============================] - 1s 37ms/step - loss: 6.5257 - mae: 6.9714\n",
            "Epoch 90/100\n",
            "31/31 [==============================] - 1s 37ms/step - loss: 7.8902 - mae: 8.3901\n",
            "Epoch 91/100\n",
            "31/31 [==============================] - 1s 37ms/step - loss: 5.9261 - mae: 6.4224\n",
            "Epoch 92/100\n",
            "31/31 [==============================] - 1s 36ms/step - loss: 7.8160 - mae: 8.2557\n",
            "Epoch 93/100\n",
            "31/31 [==============================] - 1s 36ms/step - loss: 10.1226 - mae: 10.6407\n",
            "Epoch 94/100\n",
            "31/31 [==============================] - 1s 40ms/step - loss: 9.7183 - mae: 10.2520\n",
            "Epoch 95/100\n",
            "31/31 [==============================] - 1s 37ms/step - loss: 8.1838 - mae: 8.6051\n",
            "Epoch 96/100\n",
            "31/31 [==============================] - 1s 37ms/step - loss: 10.4008 - mae: 10.7728\n",
            "Epoch 97/100\n",
            "31/31 [==============================] - 1s 37ms/step - loss: 12.4193 - mae: 12.8968\n",
            "Epoch 98/100\n",
            "31/31 [==============================] - 1s 36ms/step - loss: 11.0743 - mae: 11.6217\n",
            "Epoch 99/100\n",
            "31/31 [==============================] - 1s 38ms/step - loss: 14.0315 - mae: 14.6141\n",
            "Epoch 100/100\n",
            "31/31 [==============================] - 1s 38ms/step - loss: 10.6631 - mae: 11.1881\n"
          ],
          "name": "stdout"
        }
      ]
    },
    {
      "cell_type": "code",
      "metadata": {
        "id": "AkBsrsXMzoWR",
        "colab_type": "code",
        "outputId": "18a4f959-4fb0-45ba-d33c-077691177a3a",
        "colab": {
          "base_uri": "https://localhost:8080/",
          "height": 290
        }
      },
      "source": [
        "plt.semilogx(history.history[\"lr\"], history.history[\"loss\"])\n",
        "plt.axis([1e-8, 1e-4, 0, 30])"
      ],
      "execution_count": 9,
      "outputs": [
        {
          "output_type": "execute_result",
          "data": {
            "text/plain": [
              "[1e-08, 0.0001, 0, 30]"
            ]
          },
          "metadata": {
            "tags": []
          },
          "execution_count": 9
        },
        {
          "output_type": "display_data",
          "data": {
            "image/png": "[encoded data removed]",
            "text/plain": [
              "<Figure size 432x288 with 1 Axes>"
            ]
          },
          "metadata": {
            "tags": []
          }
        }
      ]
    },
    {
      "cell_type": "code",
      "metadata": {
        "id": "4uh-97bpLZCA",
        "colab_type": "code",
        "colab": {}
      },
      "source": [
        "tf.keras.backend.clear_session()\n",
        "tf.random.set_seed(51)\n",
        "np.random.seed(51)\n",
        "\n",
        "tf.keras.backend.clear_session()\n",
        "dataset = windowed_dataset(x_train, window_size, batch_size, shuffle_buffer_size)\n",
        "\n",
        "model = tf.keras.models.Sequential([\n",
        "  tf.keras.layers.Lambda(lambda x: tf.expand_dims(x, axis=-1),\n",
        "                      input_shape=[None]),\n",
        "  tf.keras.layers.Bidirectional(tf.keras.layers.LSTM(32, return_sequences=True)),\n",
        "  tf.keras.layers.Bidirectional(tf.keras.layers.LSTM(32)),\n",
        "  tf.keras.layers.Dense(1),\n",
        "  tf.keras.layers.Lambda(lambda x: x * 100.0)\n",
        "])\n",
        "\n",
        "\n",
        "model.compile(loss=\"mse\", optimizer=tf.keras.optimizers.SGD(lr=1e-5, momentum=0.9),metrics=[\"mae\"])\n",
        "history = model.fit(dataset,epochs=500,verbose=0)"
      ],
      "execution_count": 0,
      "outputs": []
    },
    {
      "cell_type": "code",
      "metadata": {
        "id": "icGDaND7z0ne",
        "colab_type": "code",
        "outputId": "528596cf-069e-4b14-bd41-e1df8a027650",
        "colab": {
          "base_uri": "https://localhost:8080/",
          "height": 392
        }
      },
      "source": [
        "forecast = []\n",
        "results = []\n",
        "for time in range(len(series) - window_size):\n",
        "  forecast.append(model.predict(series[time:time + window_size][np.newaxis]))\n",
        "\n",
        "forecast = forecast[split_time-window_size:]\n",
        "results = np.array(forecast)[:, 0, 0]\n",
        "\n",
        "\n",
        "plt.figure(figsize=(10, 6))\n",
        "\n",
        "plot_series(time_valid, x_valid)\n",
        "plot_series(time_valid, results)"
      ],
      "execution_count": 13,
      "outputs": [
        {
          "output_type": "display_data",
          "data": {
            "image/png": "[encoded data removed]",
            "text/plain": [
              "<Figure size 720x432 with 1 Axes>"
            ]
          },
          "metadata": {
            "tags": []
          }
        }
      ]
    },
    {
      "cell_type": "code",
      "metadata": {
        "id": "KfPeqI7rz4LD",
        "colab_type": "code",
        "outputId": "228ef7e6-2e17-4913-e590-507f8ed140f1",
        "colab": {
          "base_uri": "https://localhost:8080/",
          "height": 34
        }
      },
      "source": [
        "tf.keras.metrics.mean_absolute_error(x_valid, results).numpy()"
      ],
      "execution_count": 14,
      "outputs": [
        {
          "output_type": "execute_result",
          "data": {
            "text/plain": [
              "6.6017175"
            ]
          },
          "metadata": {
            "tags": []
          },
          "execution_count": 14
        }
      ]
    },
    {
      "cell_type": "code",
      "metadata": {
        "id": "JUsdZB_tzDLe",
        "colab_type": "code",
        "outputId": "fb3b3700-51b4-488c-b569-ca64293e2afb",
        "colab": {
          "base_uri": "https://localhost:8080/",
          "height": 607
        }
      },
      "source": [
        "import matplotlib.image  as mpimg\n",
        "import matplotlib.pyplot as plt\n",
        "\n",
        "#-----------------------------------------------------------\n",
        "# Retrieve a list of list results on training and test data\n",
        "# sets for each training epoch\n",
        "#-----------------------------------------------------------\n",
        "mae=history.history['mae']\n",
        "loss=history.history['loss']\n",
        "\n",
        "epochs=range(len(loss)) # Get number of epochs\n",
        "\n",
        "#------------------------------------------------\n",
        "# Plot MAE and Loss\n",
        "#------------------------------------------------\n",
        "plt.plot(epochs, mae, 'r')\n",
        "plt.plot(epochs, loss, 'b')\n",
        "plt.title('MAE and Loss')\n",
        "plt.xlabel(\"Epochs\")\n",
        "plt.ylabel(\"Accuracy\")\n",
        "plt.legend([\"MAE\", \"Loss\"])\n",
        "\n",
        "plt.figure()\n",
        "\n",
        "epochs_zoom = epochs[200:]\n",
        "mae_zoom = mae[200:]\n",
        "loss_zoom = loss[200:]\n",
        "\n",
        "#------------------------------------------------\n",
        "# Plot Zoomed MAE and Loss\n",
        "#------------------------------------------------\n",
        "plt.plot(epochs_zoom, mae_zoom, 'r')\n",
        "plt.plot(epochs_zoom, loss_zoom, 'b')\n",
        "plt.title('MAE and Loss')\n",
        "plt.xlabel(\"Epochs\")\n",
        "plt.ylabel(\"Accuracy\")\n",
        "plt.legend([\"MAE\", \"Loss\"])\n",
        "\n",
        "plt.figure()"
      ],
      "execution_count": 15,
      "outputs": [
        {
          "output_type": "execute_result",
          "data": {
            "text/plain": [
              "<Figure size 432x288 with 0 Axes>"
            ]
          },
          "metadata": {
            "tags": []
          },
          "execution_count": 15
        },
        {
          "output_type": "display_data",
          "data": {
            "image/png": "[encoded data removed]",
            "text/plain": [
              "<Figure size 432x288 with 1 Axes>"
            ]
          },
          "metadata": {
            "tags": []
          }
        },
        {
          "output_type": "display_data",
          "data": {
            "image/png": "[encoded data removed]",
            "text/plain": [
              "<Figure size 432x288 with 1 Axes>"
            ]
          },
          "metadata": {
            "tags": []
          }
        },
        {
          "output_type": "display_data",
          "data": {
            "text/plain": [
              "<Figure size 432x288 with 0 Axes>"
            ]
          },
          "metadata": {
            "tags": []
          }
        }
      ]
    },
    {
      "cell_type": "code",
      "metadata": {
        "id": "3CGaYFxXNEAK",
        "colab_type": "code",
        "colab": {
          "base_uri": "https://localhost:8080/",
          "height": 34
        },
        "outputId": "d866ca1a-28f2-4fd2-bf97-3a0592e62209"
      },
      "source": [
        "tf.keras.backend.clear_session()\n",
        "dataset = windowed_dataset(x_train, window_size, batch_size, shuffle_buffer_size)\n",
        "\n",
        "model = tf.keras.models.Sequential([\n",
        "  tf.keras.layers.Lambda(lambda x: tf.expand_dims(x, axis=-1),\n",
        "                      input_shape=[None]),\n",
        "  tf.keras.layers.Bidirectional(tf.keras.layers.LSTM(32, return_sequences=True)),\n",
        "  tf.keras.layers.Bidirectional(tf.keras.layers.LSTM(32)),\n",
        "  tf.keras.layers.Dense(1),\n",
        "  tf.keras.layers.Lambda(lambda x: x * 100.0)\n",
        "])\n",
        "\n",
        "\n",
        "model.compile(loss=\"mse\", optimizer=tf.keras.optimizers.SGD(lr=1e-6, momentum=0.9))\n",
        "model.fit(dataset,epochs=100, verbose=0)"
      ],
      "execution_count": 16,
      "outputs": [
        {
          "output_type": "execute_result",
          "data": {
            "text/plain": [
              "<tensorflow.python.keras.callbacks.History at 0x7f1290e42be0>"
            ]
          },
          "metadata": {
            "tags": []
          },
          "execution_count": 16
        }
      ]
    },
    {
      "cell_type": "code",
      "metadata": {
        "id": "FJ3R8ysauz9e",
        "colab_type": "code",
        "colab": {
          "base_uri": "https://localhost:8080/",
          "height": 1000
        },
        "outputId": "5c93832f-301b-4122-89d5-ac24206e15fd"
      },
      "source": [
        "tf.keras.backend.clear_session()\n",
        "dataset = windowed_dataset(x_train, window_size, batch_size, shuffle_buffer_size)\n",
        "\n",
        "model = tf.keras.models.Sequential([\n",
        "  tf.keras.layers.Lambda(lambda x: tf.expand_dims(x, axis=-1),\n",
        "                      input_shape=[None]),\n",
        "  tf.keras.layers.Bidirectional(tf.keras.layers.LSTM(32, return_sequences=True)),\n",
        "  tf.keras.layers.Bidirectional(tf.keras.layers.LSTM(32, return_sequences=True)),\n",
        "  tf.keras.layers.Bidirectional(tf.keras.layers.LSTM(32)),\n",
        "  tf.keras.layers.Dense(1),\n",
        "  tf.keras.layers.Lambda(lambda x: x * 100.0)\n",
        "])\n",
        "\n",
        "\n",
        "model.compile(loss=\"mse\", optimizer=tf.keras.optimizers.SGD(lr=1e-6, momentum=0.9))\n",
        "model.fit(dataset,epochs=100)"
      ],
      "execution_count": 17,
      "outputs": [
        {
          "output_type": "stream",
          "text": [
            "Epoch 1/100\n",
            "31/31 [==============================] - 9s 305ms/step - loss: 637.0232\n",
            "Epoch 2/100\n",
            "31/31 [==============================] - 2s 55ms/step - loss: 120.7466\n",
            "Epoch 3/100\n",
            "31/31 [==============================] - 2s 54ms/step - loss: 92.0421\n",
            "Epoch 4/100\n",
            "31/31 [==============================] - 2s 57ms/step - loss: 88.8774\n",
            "Epoch 5/100\n",
            "31/31 [==============================] - 2s 54ms/step - loss: 82.8891\n",
            "Epoch 6/100\n",
            "31/31 [==============================] - 2s 55ms/step - loss: 75.1178\n",
            "Epoch 7/100\n",
            "31/31 [==============================] - 2s 54ms/step - loss: 68.2411\n",
            "Epoch 8/100\n",
            "31/31 [==============================] - 2s 54ms/step - loss: 64.0717\n",
            "Epoch 9/100\n",
            "31/31 [==============================] - 2s 55ms/step - loss: 66.8050\n",
            "Epoch 10/100\n",
            "31/31 [==============================] - 2s 52ms/step - loss: 65.6130\n",
            "Epoch 11/100\n",
            "31/31 [==============================] - 2s 53ms/step - loss: 62.4817\n",
            "Epoch 12/100\n",
            "31/31 [==============================] - 2s 53ms/step - loss: 58.0539\n",
            "Epoch 13/100\n",
            "31/31 [==============================] - 2s 55ms/step - loss: 56.7337\n",
            "Epoch 14/100\n",
            "31/31 [==============================] - 2s 53ms/step - loss: 63.3188\n",
            "Epoch 15/100\n",
            "31/31 [==============================] - 2s 54ms/step - loss: 53.8105\n",
            "Epoch 16/100\n",
            "31/31 [==============================] - 2s 53ms/step - loss: 52.0592\n",
            "Epoch 17/100\n",
            "31/31 [==============================] - 2s 53ms/step - loss: 61.3058\n",
            "Epoch 18/100\n",
            "31/31 [==============================] - 2s 54ms/step - loss: 58.2703\n",
            "Epoch 19/100\n",
            "31/31 [==============================] - 2s 54ms/step - loss: 57.2809\n",
            "Epoch 20/100\n",
            "31/31 [==============================] - 2s 54ms/step - loss: 58.6536\n",
            "Epoch 21/100\n",
            "31/31 [==============================] - 2s 55ms/step - loss: 54.4717\n",
            "Epoch 22/100\n",
            "31/31 [==============================] - 2s 53ms/step - loss: 48.7803\n",
            "Epoch 23/100\n",
            "31/31 [==============================] - 2s 53ms/step - loss: 55.6806\n",
            "Epoch 24/100\n",
            "31/31 [==============================] - 2s 54ms/step - loss: 50.8445\n",
            "Epoch 25/100\n",
            "31/31 [==============================] - 2s 53ms/step - loss: 57.6164\n",
            "Epoch 26/100\n",
            "31/31 [==============================] - 2s 54ms/step - loss: 48.5368\n",
            "Epoch 27/100\n",
            "31/31 [==============================] - 2s 54ms/step - loss: 54.0821\n",
            "Epoch 28/100\n",
            "31/31 [==============================] - 2s 54ms/step - loss: 54.7942\n",
            "Epoch 29/100\n",
            "31/31 [==============================] - 2s 54ms/step - loss: 54.4730\n",
            "Epoch 30/100\n",
            "31/31 [==============================] - 2s 53ms/step - loss: 47.6561\n",
            "Epoch 31/100\n",
            "31/31 [==============================] - 2s 55ms/step - loss: 49.3290\n",
            "Epoch 32/100\n",
            "31/31 [==============================] - 2s 54ms/step - loss: 53.4109\n",
            "Epoch 33/100\n",
            "31/31 [==============================] - 2s 54ms/step - loss: 56.7651\n",
            "Epoch 34/100\n",
            "31/31 [==============================] - 2s 54ms/step - loss: 48.0158\n",
            "Epoch 35/100\n",
            "31/31 [==============================] - 2s 54ms/step - loss: 49.5926\n",
            "Epoch 36/100\n",
            "31/31 [==============================] - 2s 54ms/step - loss: 47.7899\n",
            "Epoch 37/100\n",
            "31/31 [==============================] - 2s 54ms/step - loss: 47.4737\n",
            "Epoch 38/100\n",
            "31/31 [==============================] - 2s 55ms/step - loss: 52.5841\n",
            "Epoch 39/100\n",
            "31/31 [==============================] - 2s 55ms/step - loss: 47.1467\n",
            "Epoch 40/100\n",
            "31/31 [==============================] - 2s 54ms/step - loss: 47.2574\n",
            "Epoch 41/100\n",
            "31/31 [==============================] - 2s 54ms/step - loss: 48.6427\n",
            "Epoch 42/100\n",
            "31/31 [==============================] - 2s 53ms/step - loss: 45.7209\n",
            "Epoch 43/100\n",
            "31/31 [==============================] - 2s 53ms/step - loss: 49.3340\n",
            "Epoch 44/100\n",
            "31/31 [==============================] - 2s 55ms/step - loss: 48.8234\n",
            "Epoch 45/100\n",
            "31/31 [==============================] - 2s 54ms/step - loss: 51.0316\n",
            "Epoch 46/100\n",
            "31/31 [==============================] - 2s 53ms/step - loss: 48.2925\n",
            "Epoch 47/100\n",
            "31/31 [==============================] - 2s 55ms/step - loss: 51.5021\n",
            "Epoch 48/100\n",
            "31/31 [==============================] - 2s 54ms/step - loss: 50.1960\n",
            "Epoch 49/100\n",
            "31/31 [==============================] - 2s 54ms/step - loss: 45.3440\n",
            "Epoch 50/100\n",
            "31/31 [==============================] - 2s 56ms/step - loss: 44.7303\n",
            "Epoch 51/100\n",
            "31/31 [==============================] - 2s 53ms/step - loss: 45.7743\n",
            "Epoch 52/100\n",
            "31/31 [==============================] - 2s 53ms/step - loss: 48.9895\n",
            "Epoch 53/100\n",
            "31/31 [==============================] - 2s 54ms/step - loss: 50.3004\n",
            "Epoch 54/100\n",
            "31/31 [==============================] - 2s 54ms/step - loss: 50.0641\n",
            "Epoch 55/100\n",
            "31/31 [==============================] - 2s 53ms/step - loss: 44.2844\n",
            "Epoch 56/100\n",
            "31/31 [==============================] - 2s 55ms/step - loss: 47.2651\n",
            "Epoch 57/100\n",
            "31/31 [==============================] - 2s 54ms/step - loss: 46.3613\n",
            "Epoch 58/100\n",
            "31/31 [==============================] - 2s 54ms/step - loss: 45.9513\n",
            "Epoch 59/100\n",
            "31/31 [==============================] - 2s 54ms/step - loss: 44.9608\n",
            "Epoch 60/100\n",
            "31/31 [==============================] - 2s 55ms/step - loss: 45.1587\n",
            "Epoch 61/100\n",
            "31/31 [==============================] - 2s 55ms/step - loss: 46.1001\n",
            "Epoch 62/100\n",
            "31/31 [==============================] - 2s 54ms/step - loss: 46.4803\n",
            "Epoch 63/100\n",
            "31/31 [==============================] - 2s 56ms/step - loss: 46.5752\n",
            "Epoch 64/100\n",
            "31/31 [==============================] - 2s 54ms/step - loss: 45.0881\n",
            "Epoch 65/100\n",
            "31/31 [==============================] - 2s 54ms/step - loss: 44.4727\n",
            "Epoch 66/100\n",
            "31/31 [==============================] - 2s 54ms/step - loss: 43.8191\n",
            "Epoch 67/100\n",
            "31/31 [==============================] - 2s 53ms/step - loss: 43.3888\n",
            "Epoch 68/100\n",
            "31/31 [==============================] - 2s 53ms/step - loss: 44.2794\n",
            "Epoch 69/100\n",
            "31/31 [==============================] - 2s 54ms/step - loss: 48.7658\n",
            "Epoch 70/100\n",
            "31/31 [==============================] - 2s 54ms/step - loss: 49.2290\n",
            "Epoch 71/100\n",
            "31/31 [==============================] - 2s 54ms/step - loss: 47.9089\n",
            "Epoch 72/100\n",
            "31/31 [==============================] - 2s 51ms/step - loss: 43.4049\n",
            "Epoch 73/100\n",
            "31/31 [==============================] - 2s 53ms/step - loss: 46.7734\n",
            "Epoch 74/100\n",
            "31/31 [==============================] - 2s 52ms/step - loss: 45.2176\n",
            "Epoch 75/100\n",
            "31/31 [==============================] - 2s 52ms/step - loss: 43.4735\n",
            "Epoch 76/100\n",
            "31/31 [==============================] - 2s 57ms/step - loss: 46.5729\n",
            "Epoch 77/100\n",
            "31/31 [==============================] - 2s 54ms/step - loss: 46.2850\n",
            "Epoch 78/100\n",
            "31/31 [==============================] - 2s 54ms/step - loss: 44.9241\n",
            "Epoch 79/100\n",
            "31/31 [==============================] - 2s 54ms/step - loss: 44.4036\n",
            "Epoch 80/100\n",
            "31/31 [==============================] - 2s 55ms/step - loss: 44.3938\n",
            "Epoch 81/100\n",
            "31/31 [==============================] - 2s 53ms/step - loss: 50.9530\n",
            "Epoch 82/100\n",
            "31/31 [==============================] - 2s 54ms/step - loss: 52.1953\n",
            "Epoch 83/100\n",
            "31/31 [==============================] - 2s 54ms/step - loss: 45.2116\n",
            "Epoch 84/100\n",
            "31/31 [==============================] - 2s 55ms/step - loss: 45.1946\n",
            "Epoch 85/100\n",
            "31/31 [==============================] - 2s 52ms/step - loss: 46.0932\n",
            "Epoch 86/100\n",
            "31/31 [==============================] - 2s 55ms/step - loss: 44.4736\n",
            "Epoch 87/100\n",
            "31/31 [==============================] - 2s 56ms/step - loss: 43.7276\n",
            "Epoch 88/100\n",
            "31/31 [==============================] - 2s 56ms/step - loss: 51.4227\n",
            "Epoch 89/100\n",
            "31/31 [==============================] - 2s 55ms/step - loss: 45.9021\n",
            "Epoch 90/100\n",
            "31/31 [==============================] - 2s 51ms/step - loss: 48.7337\n",
            "Epoch 91/100\n",
            "31/31 [==============================] - 2s 55ms/step - loss: 44.8213\n",
            "Epoch 92/100\n",
            "31/31 [==============================] - 2s 55ms/step - loss: 53.9012\n",
            "Epoch 93/100\n",
            "31/31 [==============================] - 2s 53ms/step - loss: 44.0955\n",
            "Epoch 94/100\n",
            "31/31 [==============================] - 2s 55ms/step - loss: 44.1300\n",
            "Epoch 95/100\n",
            "31/31 [==============================] - 2s 56ms/step - loss: 45.7455\n",
            "Epoch 96/100\n",
            "31/31 [==============================] - 2s 53ms/step - loss: 44.4551\n",
            "Epoch 97/100\n",
            "31/31 [==============================] - 2s 52ms/step - loss: 44.4199\n",
            "Epoch 98/100\n",
            "31/31 [==============================] - 2s 54ms/step - loss: 43.7962\n",
            "Epoch 99/100\n",
            "31/31 [==============================] - 2s 52ms/step - loss: 44.4305\n",
            "Epoch 100/100\n",
            "31/31 [==============================] - 2s 53ms/step - loss: 45.0547\n"
          ],
          "name": "stdout"
        },
        {
          "output_type": "execute_result",
          "data": {
            "text/plain": [
              "<tensorflow.python.keras.callbacks.History at 0x7f128f4ea860>"
            ]
          },
          "metadata": {
            "tags": []
          },
          "execution_count": 17
        }
      ]
    }
  ]
}